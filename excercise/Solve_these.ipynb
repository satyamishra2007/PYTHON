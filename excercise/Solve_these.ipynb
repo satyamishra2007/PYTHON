{
 "cells": [
  {
   "cell_type": "code",
   "execution_count": 13,
   "metadata": {},
   "outputs": [
    {
     "name": "stdout",
     "output_type": "stream",
     "text": [
      "2020-04-16 03:45:23\n",
      "2020\n"
     ]
    }
   ],
   "source": [
    "from datetime import datetime\n",
    "date_obj = datetime(2020,4,16,3,45,23)\n",
    "print(date_obj)\n",
    "print(date_obj.year)"
   ]
  },
  {
   "cell_type": "code",
   "execution_count": 21,
   "metadata": {},
   "outputs": [
    {
     "name": "stdout",
     "output_type": "stream",
     "text": [
      "[(4, 1), (1, 2), (8, 3), (3, 5), (2, 8)]\n",
      "[(4, 1), (1, 2), (8, 3), (3, 5), (2, 8)]\n"
     ]
    }
   ],
   "source": [
    "lst = [(1,2),(4,1),(2,8),(8,3),(3,5)]\n",
    "lst.sort(key = lambda x:x[1])\n",
    "print(lst)\n",
    "print(sorted(lst,key = lambda x:x[1]))"
   ]
  },
  {
   "cell_type": "code",
   "execution_count": 17,
   "metadata": {},
   "outputs": [
    {
     "name": "stdout",
     "output_type": "stream",
     "text": [
      "{'g': 2, 'o': 3, 'l': 1, 'e': 1, '.': 1, 'c': 1, 'm': 1}\n"
     ]
    }
   ],
   "source": [
    "\"\"\"Write a Python program to count the number of characters (character frequency) in a string\n",
    "Sample String : google.com'\n",
    "Expected Result : {'o': 3, 'g': 2, '.': 1, 'e': 1, 'l': 1, 'm': 1, 'c': 1}\"\"\"\n",
    "\n",
    "str='google.com'\n",
    "result={}\n",
    "for s in str:\n",
    "    if s not in result.keys():\n",
    "        result[s] = 1\n",
    "    else:\n",
    "        result[s] += 1\n",
    "        \n",
    "print(result)   \n"
   ]
  },
  {
   "cell_type": "code",
   "execution_count": 4,
   "metadata": {},
   "outputs": [
    {
     "name": "stdout",
     "output_type": "stream",
     "text": [
      "20 20 30\n"
     ]
    }
   ],
   "source": [
    "\"\"\"\n",
    "\n",
    "Write a Python program to check the sum of three elements (each from an array) from three arrays is equal to a target value. Print all those three-element combinations. Go to the editor\n",
    "Sample data:\n",
    "/*\n",
    "X = [10, 20, 20, 20]\n",
    "Y = [10, 20, 30, 40]\n",
    "Z = [10, 30, 40, 20]\n",
    "target = 70\n",
    "\"\"\"\n",
    "\n",
    "X = [10, 20, 20, 20]\n",
    "Y = [10, 20, 30, 40]\n",
    "Z = [10, 30, 40, 20]\n",
    "target = 70\n",
    "\n",
    "for idx in range(len(X)):\n",
    "    sum = 0\n",
    "    sum += X[idx] + Y[idx] + Z[idx]\n",
    "    if sum == target:\n",
    "        print(X[idx],Y[idx],Z[idx])\n",
    "    \n",
    "    \n",
    "    "
   ]
  },
  {
   "cell_type": "code",
   "execution_count": 25,
   "metadata": {},
   "outputs": [
    {
     "name": "stdout",
     "output_type": "stream",
     "text": [
      "['abcde']\n"
     ]
    }
   ],
   "source": [
    "\"\"\" \n",
    "longest nonrepetettive string in side a string\n",
    "\"\"\"\n",
    "\n",
    "str1 = 'abcdeabchi'\n",
    "str2 = ''\n",
    "result_list = []\n",
    "for s in str1:\n",
    "    if s not in str2:\n",
    "        str2 += s\n",
    "    else:\n",
    "        result_list.append(str2)\n",
    "        str2 = ''\n",
    "        str2 += s\n",
    "        \n",
    "print(result_list)        \n",
    "        \n",
    "        \n",
    "        \n",
    "    "
   ]
  },
  {
   "cell_type": "code",
   "execution_count": null,
   "metadata": {},
   "outputs": [],
   "source": [
    "\"\"\"Write a Python program to get a single string from two given strings, separated by a space and swap the first two characters of each string\n",
    "Sample String : 'abc', 'xyz'\n",
    "Expected Result : 'xyc abz'   \"\"\"\n",
    "\n",
    "input_string = list(input().split())\n",
    "print( input_string[1][:2] + input_string[0][2:] + ' ' + input_string[0][:2] + input_string[1][2:] )\n"
   ]
  },
  {
   "cell_type": "code",
   "execution_count": null,
   "metadata": {},
   "outputs": [],
   "source": [
    "\"\"\"Write a Python program to add 'ing' at the end of a given string (length should be at least 3).\n",
    "If the given string already ends with 'ing' then add 'ly' instead.\n",
    "If the string length of the given string is less than 3, leave it unchanged\n",
    "Sample String : 'abc'\n",
    "Expected Result : 'abcing'\n",
    "Sample String : 'string'\n",
    "Expected Result : 'stringly'\"\"\"\n",
    "ipString = 'string'\n",
    "\n",
    "def myMethod(ipString):\n",
    "    if len(ipString) >= 3:\n",
    "        if ipString.endswith('ing'):        \n",
    "            ipString +='ly'\n",
    "        else:\n",
    "            \n",
    "            ipString +='ing'\n",
    "        return   ipString  \n",
    "    else:\n",
    "        return \"-1\"\n",
    "    \n",
    "myMethod(ipString)     \n",
    "\n",
    "\n"
   ]
  },
  {
   "cell_type": "code",
   "execution_count": null,
   "metadata": {},
   "outputs": [],
   "source": [
    "\"\"\"Write a Python program to change a given string to a new string \n",
    "where the first and last chars have been exchanged.\"\"\"\n",
    "\n",
    "str1 = 'hello'\n",
    "\n",
    "def stringExchange(str):\n",
    "    new_string = str1[-1] + str1[1:-1] + str1[0] \n",
    "    print(new_string)\n",
    "\n",
    "stringExchange(str1)    \n",
    "\n",
    "\n"
   ]
  },
  {
   "cell_type": "code",
   "execution_count": 2,
   "metadata": {},
   "outputs": [
    {
     "name": "stdout",
     "output_type": "stream",
     "text": [
      "0 h\n",
      "2 l\n",
      "4 o\n",
      "6  \n",
      "8 o\n",
      "10 l\n",
      "elwwrd\n"
     ]
    }
   ],
   "source": [
    "\"\"\"Write a Python program to remove the characters which have odd index values of a given string,\n",
    "then print the even index chars\"\"\"\n",
    "\n",
    "str1 = 'hellow world'\n",
    "\n",
    "def stringManipulate(str1):\n",
    "    result =''\n",
    "    for s in range(len(str1)):\n",
    "        if s%2 !=0:\n",
    "            result += str1[s]\n",
    "        else:\n",
    "            print(s,str1[s])\n",
    "    print(result)        \n",
    "stringManipulate(str1)\n"
   ]
  },
  {
   "cell_type": "raw",
   "metadata": {},
   "source": [
    "\"\"\"Write a Python program to count the occurrences of each word in a given sentence.\"\"\"\n",
    "\n",
    "\n"
   ]
  },
  {
   "cell_type": "code",
   "execution_count": 3,
   "metadata": {},
   "outputs": [
    {
     "name": "stdout",
     "output_type": "stream",
     "text": [
      "{'hello': 2, 'hi': 2, 'how': 1, 'are': 1, 'you': 2}\n"
     ]
    }
   ],
   "source": [
    "str1 = 'hello hi how are you hi hello you'\n",
    "result = {}\n",
    "def wordCount(str1):\n",
    "    for s in str1.split():\n",
    "        if s not in result.keys():\n",
    "            result[s] = 1\n",
    "        else:\n",
    "            result[s] +=1\n",
    "    print(result)        \n",
    "wordCount(str1)            \n"
   ]
  },
  {
   "cell_type": "code",
   "execution_count": 5,
   "metadata": {},
   "outputs": [
    {
     "name": "stdout",
     "output_type": "stream",
     "text": [
      "sjsa\n"
     ]
    }
   ],
   "source": [
    "\"\"\" Write a Python function to reverses a string if it's length is a multiple of 4.\"\"\"\n",
    "str1 = 'asjs'\n",
    "def reverseString(str1):\n",
    "    result = ''\n",
    "    if len(str1) % 4 == 0:\n",
    "        for s in range(len(str1)-1 ,-1,-1):\n",
    "            result += str1[s]\n",
    "            \n",
    "    print(result)        \n",
    "reverseString(str1)   "
   ]
  },
  {
   "cell_type": "code",
   "execution_count": null,
   "metadata": {},
   "outputs": [],
   "source": [
    "\"\"\"Write a Python program to print the following floating numbers upto 2 decimal places, \n",
    "then with no decimal places.\"\"\"\n",
    "\n",
    "num = 123.8475\n",
    "def floatingRepr(num):\n",
    "    print(\"%0.2f\" %num)\n",
    "\n",
    "floatingRepr(num)"
   ]
  },
  {
   "cell_type": "code",
   "execution_count": null,
   "metadata": {},
   "outputs": [],
   "source": [
    "\"\"\"Write a Python program to reverse a string\"\"\"\n",
    "str1 = 'india'\n",
    "def reverseString(str1):\n",
    "    result = ''\n",
    "    l = len(str1)\n",
    "    for s in range(l-1,-1,-1):\n",
    "        result += str1[s]\n",
    "    print(result)    \n",
    "reverseString(str1)    "
   ]
  },
  {
   "cell_type": "code",
   "execution_count": null,
   "metadata": {},
   "outputs": [],
   "source": [
    "\"\"\"Write a Python program to find the second most repeated word in a given string\"\"\"\n",
    "\n",
    "str1 = 'hi hello hi how hi how are you'\n",
    "words = str1.split()\n",
    "result_dict = {}\n",
    "\n",
    "for w in words:\n",
    "    if w not in result_dict:\n",
    "        result_dict[w] = 1\n",
    "    else:\n",
    "        result_dict[w] += 1\n",
    "        \n",
    "print(result_dict)        \n",
    "order_dict = sorted(result_dict.items(),key = lambda kv:kv[1],reverse=True)\n",
    "print(order_dict[1]) \n"
   ]
  },
  {
   "cell_type": "code",
   "execution_count": null,
   "metadata": {},
   "outputs": [],
   "source": [
    "\"\"\"Write a Python program to find the longest common sub-string from two given strings.\"\"\"\n",
    "str1 = 'hiiamsatya'\n",
    "str2 = 'satyahowareyouhi'\n",
    "\n"
   ]
  },
  {
   "cell_type": "code",
   "execution_count": null,
   "metadata": {},
   "outputs": [],
   "source": [
    "\"\"\"Write a Python program to count the number of strings \n",
    "where the string length is 2 or more and the first and last character are same \n",
    "from a given list of strings.Sample List : ['abc', 'xyz', 'aba', '1221']\n",
    "Expected Result : 2\"\"\"\n",
    "\n",
    "lst = ['abc', 'xyz', 'aba', '1221']\n",
    "cnt = 0\n",
    "for i in lst:\n",
    "    #print(i)\n",
    "    if i[0] == i[-1]:\n",
    "        cnt +=1\n",
    "        \n",
    "print(cnt)        \n",
    "    "
   ]
  },
  {
   "cell_type": "code",
   "execution_count": null,
   "metadata": {},
   "outputs": [],
   "source": [
    "\"\"\"Write a Python program to get a list, sorted in increasing order by the last element \n",
    "in each tuple from a given list of non-empty tuples.\n",
    "Sample List : [(2, 5), (1, 2), (4, 4), (2, 3), (2, 1)]\n",
    "Expected Result : [(2, 1), (1, 2), (2, 3), (4, 4), (2, 5)]\"\"\"\n",
    "\n",
    "lst_tuples = [(2, 5), (1, 2), (4, 4), (2, 3), (2, 1)]\n",
    "\n",
    "def last(n):\n",
    "    return n[-1]\n",
    "\n",
    "def sort_tuples(lst_tuples):\n",
    "    return sorted(lst_tuples,key=last)\n",
    "\n",
    "print(sort_tuples([(2, 5), (1, 2), (4, 4), (2, 3), (2, 1)]))"
   ]
  },
  {
   "cell_type": "code",
   "execution_count": null,
   "metadata": {},
   "outputs": [],
   "source": [
    "\"\"\" Write a Python program to remove duplicates from a list.also first check if the list is empty\"\"\"\n",
    "lst = [10,20,10,20,30,40,50,40]\n",
    "result_list = []\n",
    "\n",
    "for  i in lst:\n",
    "    if i not in result_list:\n",
    "        result_list.append(i)\n",
    "print(result_list)  \n",
    "\n",
    "\n",
    "#using set\n",
    "print(sorted(list(set(lst))))\n",
    "        "
   ]
  },
  {
   "cell_type": "code",
   "execution_count": null,
   "metadata": {},
   "outputs": [],
   "source": [
    "\"\"\"Write a Python program to find the second smallest number in a list\"\"\"\n",
    "lst = [10,30,40,20,50]\n",
    "print(sorted(list(set(lst)))[1])\n"
   ]
  },
  {
   "cell_type": "code",
   "execution_count": 7,
   "metadata": {},
   "outputs": [
    {
     "name": "stdout",
     "output_type": "stream",
     "text": [
      "['p1', 'q1', 'p2', 'q2', 'p3', 'q3', 'p4', 'q4', 'p5', 'q5']\n"
     ]
    }
   ],
   "source": [
    "\"\"\" Write a Python program to create a list by concatenating a given list which range goes from 1 to n.\n",
    "Sample list : ['p', 'q']\n",
    "n =5\n",
    "Sample Output : ['p1', 'q1', 'p2', 'q2', 'p3', 'q3', 'p4', 'q4', 'p5', 'q5']\"\"\"\n",
    "\n",
    "lst = ['p','q']\n",
    "result_list = []\n",
    "n=5\n",
    "result_list= ['{}{}'.format(c, i) for i in range(1, n+1) for c in lst]\n",
    "print(result_list)    \n",
    "    "
   ]
  },
  {
   "cell_type": "code",
   "execution_count": 6,
   "metadata": {},
   "outputs": [
    {
     "name": "stdout",
     "output_type": "stream",
     "text": [
      "[1, 10, 1, 20, 1, 30, 1, 40]\n"
     ]
    }
   ],
   "source": [
    "\"\"\"Write a Python program to insert an element before each element of a list.\"\"\"\n",
    "input_list = [10,20,30,40]\n",
    "\n",
    "result = [v for i in input_list for v in (1, i)]\n",
    "    \n",
    "print(result)    \n",
    "    \n"
   ]
  },
  {
   "cell_type": "code",
   "execution_count": null,
   "metadata": {},
   "outputs": [],
   "source": [
    "\"\"\"Write a Python program to remove duplicates from a list of lists.\n",
    "Sample list : [[10, 20], [40], [30, 56, 25], [10, 20], [33], [40]]\n",
    "New List : [[10, 20], [30, 56, 25], [33], [40]]\"\"\"\n",
    "\n"
   ]
  },
  {
   "cell_type": "code",
   "execution_count": 8,
   "metadata": {},
   "outputs": [
    {
     "name": "stdout",
     "output_type": "stream",
     "text": [
      "[('hello', 2), ('hi', 2), ('you', 2), ('how', 1), ('are', 1)]\n"
     ]
    }
   ],
   "source": [
    "\"\"\"Write a Python script to sort (ascending and descending) a dictionary by value also then by key\"\"\"\n",
    "myDict = {'hello': 2, 'hi': 2, 'how': 1, 'are': 1, 'you': 2}\n",
    "\n",
    "sortedDictAsc = sorted(myDict.items(),key= lambda kv:kv[1])\n",
    "sortedDictDsc = sorted(myDict.items(),key= lambda kv:kv[1],reverse=True)\n",
    "print(sortedDictDsc)"
   ]
  },
  {
   "cell_type": "code",
   "execution_count": 9,
   "metadata": {},
   "outputs": [
    {
     "name": "stdout",
     "output_type": "stream",
     "text": [
      "600\n"
     ]
    }
   ],
   "source": [
    "\"\"\"Write a Python program to sum all the items in a dictionary.\"\"\"\n",
    "myDict={'a': 100, 'b':200, 'c':300}\n",
    "sum = 0\n",
    "for v in myDict.values():\n",
    "    sum = sum + v\n",
    "print(sum)        \n",
    "        \n",
    "    \n"
   ]
  },
  {
   "cell_type": "code",
   "execution_count": null,
   "metadata": {},
   "outputs": [],
   "source": [
    "\"\"\"Write a Python program to remove duplicates from Dictionary.\"\"\"\n",
    "myDict={'a': 100, 'b':200, 'c':300,'d':100}\n",
    "resultDict = {}\n",
    "for k,v in myDict.items():\n",
    "    if v not in resultDict.values():\n",
    "        resultDict[k] = v\n",
    "print(resultDict)        \n",
    "\n"
   ]
  },
  {
   "cell_type": "markdown",
   "metadata": {},
   "source": [
    "\"\"\"Write a Python program to find the highest 3 values in a dictionary.\"\"\"\n"
   ]
  },
  {
   "cell_type": "code",
   "execution_count": 10,
   "metadata": {},
   "outputs": [
    {
     "name": "stdout",
     "output_type": "stream",
     "text": [
      "[('e', 500), ('c', 300), ('b', 200)]\n"
     ]
    }
   ],
   "source": [
    "myDict={'a': 100, 'b':200, 'c':300,'d':100,'e':500}\n",
    "from collections import Counter\n",
    "k = Counter(myDict)\n",
    "print(k.most_common(3))"
   ]
  },
  {
   "cell_type": "code",
   "execution_count": 11,
   "metadata": {},
   "outputs": [
    {
     "name": "stdout",
     "output_type": "stream",
     "text": [
      "15\n",
      "25\n",
      "35\n",
      "x has vale [11, 12, 13, 14, 15, 16, 17, 18, 19]\n",
      "y has vale [21, 22, 23, 24, 25, 26, 27, 28, 29]\n",
      "z has vale [31, 32, 33, 34, 35, 36, 37, 38, 39]\n"
     ]
    }
   ],
   "source": [
    "\"\"\"Write a Python program to create a dictionary of keys x, y, and z where each key has as \n",
    "value a list from 11-20, 21-30, and 31-40 respectively. \n",
    "Access the fifth value of each key from the dictionary\n",
    "{'x': [11, 12, 13, 14, 15, 16, 17, 18, 19],\n",
    "'y': [21, 22, 23, 24, 25, 26, 27, 28, 29],\n",
    "'z': [31, 32, 33, 34, 35, 36, 37, 38, 39]}\n",
    "15\n",
    "25\n",
    "35\n",
    "x has value [11, 12, 13, 14, 15, 16, 17, 18, 19]\n",
    "y has value [21, 22, 23, 24, 25, 26, 27, 28, 29]\n",
    "z has value [31, 32, 33, 34, 35, 36, 37, 38, 39]\"\"\"\n",
    "\n",
    "\n",
    "myDict = dict(x=list(range(11,20)),y=list(range(21,30)),z=list(range(31,40)))\n",
    "#print(myDict)  \n",
    "\n",
    "print(myDict['x'][4])\n",
    "print(myDict['y'][4])\n",
    "print(myDict['z'][4])\n",
    "for k,v in myDict.items():\n",
    "    print(k,'has vale',v)\n"
   ]
  },
  {
   "cell_type": "code",
   "execution_count": null,
   "metadata": {},
   "outputs": [],
   "source": [
    "list_string = ['s','a','t','y','a']\n",
    "list_ints = [1,2,3,4,5]\n",
    "str1 = ''.join(list_string)\n",
    "print(str1)\n",
    "\n",
    "str2 = \"\".join(str(n) for n in list_ints)\n",
    "print(str2)\n",
    "\n",
    "\n",
    "str3 = \"\".join(map(str, list_ints))\n",
    "print(str3)"
   ]
  },
  {
   "cell_type": "code",
   "execution_count": null,
   "metadata": {},
   "outputs": [],
   "source": [
    "l = [1,2,3,4]\n",
    "s = ''.join([str(i) for i in l])\n",
    "print(s)"
   ]
  },
  {
   "cell_type": "code",
   "execution_count": 12,
   "metadata": {},
   "outputs": [
    {
     "name": "stdout",
     "output_type": "stream",
     "text": [
      "5\n"
     ]
    }
   ],
   "source": [
    "str1 = \"Hello World \"\n",
    "\n",
    "def lastWordlen(s): \n",
    "    lst = str1.strip().split()\n",
    "    if len(lst) > 1:\n",
    "        str2 =''.join(lst[-1])\n",
    "        return len(str2)     \n",
    "    else:\n",
    "        return 0\n",
    "\n",
    "result = lastWordlen(str1)\n",
    "print(result)\n",
    "\n",
    "\n",
    "\n"
   ]
  },
  {
   "cell_type": "code",
   "execution_count": null,
   "metadata": {},
   "outputs": [],
   "source": [
    "class Solution:\n",
    "    def reverse(self, x: int) -> int:\n",
    "        reverse_num = 0   \n",
    "        if x < 0:\n",
    "            return (-1)* self.reverse(abs(x))\n",
    "        while x > 0:\n",
    "            reverse_num = (reverse_num * 10) + ( x % 10)\n",
    "            x = x//10\n",
    "        return reverse_num\n",
    "\n",
    "obj = Solution()\n",
    "val = obj.reverse(-321)     \n",
    "print(val)"
   ]
  },
  {
   "cell_type": "code",
   "execution_count": null,
   "metadata": {},
   "outputs": [],
   "source": [
    "n = int(input())\n",
    "if n < 0:\n",
    "    res = (-1)* int(''.join(reversed(str(abs(n)))))\n",
    "    print(res, type(res))\n",
    "else:\n",
    "    print(int(''.join(reversed(str(abs(n))))))"
   ]
  },
  {
   "cell_type": "code",
   "execution_count": null,
   "metadata": {},
   "outputs": [],
   "source": [
    "s = \"swati\"\n",
    "print(''.join(reversed(s)))"
   ]
  },
  {
   "cell_type": "code",
   "execution_count": null,
   "metadata": {},
   "outputs": [],
   "source": [
    "lst = [1,2,3,4,5,6]\n",
    "lst.insert(2,10)\n",
    "print(lst.get(4))"
   ]
  },
  {
   "cell_type": "code",
   "execution_count": null,
   "metadata": {},
   "outputs": [],
   "source": [
    "lst = [3,2,1,5,6,7,10]\n",
    "\n",
    "def selection_sort(lst):\n",
    "    for i in range(len(lst)):\n",
    "        minimum = i\n",
    "        #loop to get minimum index\n",
    "        for j in range(i+1, len(lst)): \n",
    "            if lst[j] < lst[minimum]:\n",
    "                minimum = j\n",
    "                \n",
    "        lst[i],lst[minimum] = lst[minimum],lst[i]\n",
    "        \n",
    "    return lst\n",
    "\n",
    "sorted_list = selection_sort(lst)   \n",
    "print(sorted_list)\n",
    "    \n",
    "\n",
    "\n"
   ]
  },
  {
   "cell_type": "code",
   "execution_count": null,
   "metadata": {},
   "outputs": [],
   "source": [
    "def sync_msgs(messages):\n",
    "    # CANDIDATE CODE HERE\n",
    "    myDict1={}\n",
    "    myDict2={}\n",
    "    myDict3={}\n",
    "    lst = []\n",
    "    for k,v_list in messages.items():\n",
    "      for v in v_list:\n",
    "        if closestTime(v,messages['lidar_0'][0]): \n",
    "         myDict1[k]=v\n",
    "        elif closestTime(v,messages['lidar_0'][1]):\n",
    "          myDict2[k]=v\n",
    "        elif closestTime(v,messages['lidar_0'][2]):\n",
    "          myDict3[k]=v\n",
    "    lst.append(myDict1)  \n",
    "    lst.append(myDict2)  \n",
    "    lst.append(myDict3) \n",
    "    print(lst)    \n",
    "    return lst\n",
    "\n",
    "def closestTime(t1,t2):\n",
    "  diff = abs(t1 - t2)\n",
    "  if diff <= 1:\n",
    "    return True\n",
    "  else:\n",
    "    return False  \n",
    "  #print(diff)\n",
    "\n",
    "\n",
    "print(closestTime(1585712295.624838,1585712295.524838))\n",
    "\n",
    "\n",
    "\n",
    "\n",
    "\n",
    "    \n",
    "\n",
    "# 3 topics, difffernt frequency, in sync\n",
    "def unit_test_1():\n",
    "    messages = {\n",
    "        \"lidar_0\": [\n",
    "            1585712295.624838,\n",
    "            1585712296.624838,\n",
    "            1585712297.624838,\n",
    "        ],\n",
    "        'lidar_1': [\n",
    "            1585712295.324838,\n",
    "            1585712295.624838,\n",
    "            1585712296.324838,\n",
    "            1585712296.624838,\n",
    "            1585712297.324838,\n",
    "            1585712297.624838\n",
    "        ],\n",
    "        'lidar_2': [\n",
    "            1585712295.224838,\n",
    "            1585712295.424838,\n",
    "            1585712295.624838,\n",
    "            1585712296.224838,\n",
    "            1585712296.424838,\n",
    "            1585712296.624838,\n",
    "            1585712297.224838,\n",
    "            1585712297.424838,\n",
    "            1585712297.624838,\n",
    "        ]\n",
    "    }\n",
    "\n",
    "    expected = [\n",
    "        {\n",
    "            'lidar_0': messages['lidar_0'][0],\n",
    "            'lidar_1': messages['lidar_1'][1],\n",
    "            'lidar_2': messages['lidar_2'][2]\n",
    "        },\n",
    "        {\n",
    "            'lidar_0': messages['lidar_0'][1],\n",
    "            'lidar_1': messages['lidar_1'][3],\n",
    "            'lidar_2': messages['lidar_2'][5]\n",
    "        },\n",
    "        {\n",
    "            'lidar_0': messages['lidar_0'][2],\n",
    "            'lidar_1': messages['lidar_1'][5],\n",
    "            'lidar_2': messages['lidar_2'][8]\n",
    "        }\n",
    "    ]\n",
    "\n",
    "    return messages, expected\n",
    "\n",
    "\n",
    "# 3 topics, same frequency, lidar 0 started early\n",
    "def unit_test_2():\n",
    "    messages = {\n",
    "        \"lidar_0\": [\n",
    "            1585712294.624838,\n",
    "            1585712295.624838,\n",
    "            1585712296.624838\n",
    "        ],\n",
    "        'lidar_1': [\n",
    "            1585712295.524838,\n",
    "            1585712296.524838,\n",
    "            1585712297.524838,\n",
    "        ],\n",
    "        'lidar_2': [\n",
    "            1585712295.724838,\n",
    "            1585712296.724838,\n",
    "            1585712297.724838,\n",
    "        ]\n",
    "    }\n",
    "\n",
    "    expected = [\n",
    "        {\n",
    "            'lidar_0': messages['lidar_0'][1],\n",
    "            'lidar_1': messages['lidar_1'][0],\n",
    "            'lidar_2': messages['lidar_2'][0]\n",
    "        },\n",
    "        {\n",
    "            'lidar_0': messages['lidar_0'][2],\n",
    "            'lidar_1': messages['lidar_1'][1],\n",
    "            'lidar_2': messages['lidar_2'][1]\n",
    "        }\n",
    "    ]\n",
    "\n",
    "    return messages, expected\n",
    "\n",
    "# 3 topics, 2 in sync, the others not\n",
    "def unit_test_3():\n",
    "    messages = {\n",
    "        \"lidar_0\": [\n",
    "            1585712295.124838,\n",
    "            1585712296.124838,\n",
    "            1585712297.124838,\n",
    "        ],\n",
    "        'lidar_1': [\n",
    "            1585712295.624838,\n",
    "            1585712296.624838,\n",
    "            1585712297.624838,\n",
    "        ],\n",
    "        'lidar_2': [\n",
    "            1585712295.724838,\n",
    "            1585712296.724838,\n",
    "            1585712297.724838,\n",
    "        ]\n",
    "    }\n",
    "\n",
    "    expected = [\n",
    "        {\n",
    "            'lidar_0': messages['lidar_0'][1],\n",
    "            'lidar_1': messages['lidar_1'][0],\n",
    "            'lidar_2': messages['lidar_2'][0]\n",
    "        },\n",
    "        {\n",
    "            'lidar_0': messages['lidar_0'][2],\n",
    "            'lidar_1': messages['lidar_1'][1],\n",
    "            'lidar_2': messages['lidar_2'][1]\n",
    "        }\n",
    "    ]\n",
    "\n",
    "    return messages, expected\n",
    "\n",
    "# compare results to expected output\n",
    "def compare_output(output1, output2):\n",
    "    if len(output1) != len(output2):\n",
    "        return False\n",
    "\n",
    "    for index, message1 in enumerate(output1):\n",
    "        message2 = output2[index]\n",
    "\n",
    "        if len(message1.keys()) != len(message2.keys()):\n",
    "            return False\n",
    "\n",
    "        for topic in message1:\n",
    "            if topic not in message2:\n",
    "                return False\n",
    "\n",
    "            if message1[topic] != message2[topic]:\n",
    "                return False\n",
    "\n",
    "    return True\n",
    "\n",
    "if __name__ == \"__main__\":\n",
    "    unit_tests = []\n",
    "    unit_tests.append(unit_test_1())\n",
    "    unit_tests.append(unit_test_2())\n",
    "    unit_tests.append(unit_test_3())\n",
    "\n",
    "    for index, unit_test in enumerate(unit_tests):\n",
    "        synced_messages = sync_msgs(unit_test[0])\n",
    "        success = compare_output(unit_test[1], synced_messages)\n",
    "\n",
    "        print(\"unit_test \" + str(index) + \" \" + str(success) )"
   ]
  },
  {
   "cell_type": "code",
   "execution_count": 14,
   "metadata": {},
   "outputs": [
    {
     "name": "stdout",
     "output_type": "stream",
     "text": [
      "\n"
     ]
    }
   ],
   "source": []
  },
  {
   "cell_type": "code",
   "execution_count": null,
   "metadata": {},
   "outputs": [],
   "source": []
  }
 ],
 "metadata": {
  "kernelspec": {
   "display_name": "Python 3",
   "language": "python",
   "name": "python3"
  },
  "language_info": {
   "codemirror_mode": {
    "name": "ipython",
    "version": 3
   },
   "file_extension": ".py",
   "mimetype": "text/x-python",
   "name": "python",
   "nbconvert_exporter": "python",
   "pygments_lexer": "ipython3",
   "version": "3.7.4"
  }
 },
 "nbformat": 4,
 "nbformat_minor": 2
}
